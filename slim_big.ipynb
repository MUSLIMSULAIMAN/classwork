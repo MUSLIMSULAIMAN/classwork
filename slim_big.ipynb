{
 "cells": [
  {
   "cell_type": "code",
   "execution_count": 6,
   "metadata": {},
   "outputs": [],
   "source": [
    "p_info = {\n",
    "    'sex' : 'male',\n",
    "    'height' : 173,\n",
    "    'weight' : 65,\n",
    "    'numbers' : [1,2,3,4],\n",
    "    'fruits' : {'citrus':['lemon','lime','orange', {'orange-type': ['foreign','local']}]}}"
   ]
  },
  {
   "cell_type": "code",
   "execution_count": 7,
   "metadata": {},
   "outputs": [],
   "source": [
    "p_info['fruits']['citrus'][3]['orange-type'][1]='international'"
   ]
  },
  {
   "cell_type": "code",
   "execution_count": 8,
   "metadata": {},
   "outputs": [
    {
     "data": {
      "text/plain": [
       "{'sex': 'male',\n",
       " 'height': 173,\n",
       " 'weight': 65,\n",
       " 'numbers': [1, 2, 3, 4],\n",
       " 'fruits': {'citrus': ['lemon',\n",
       "   'lime',\n",
       "   'orange',\n",
       "   {'orange-type': ['foreign', 'international']}]}}"
      ]
     },
     "execution_count": 8,
     "metadata": {},
     "output_type": "execute_result"
    }
   ],
   "source": [
    "p_info"
   ]
  },
  {
   "cell_type": "code",
   "execution_count": 10,
   "metadata": {},
   "outputs": [],
   "source": [
    "car = {\n",
    "    \"brand\": \"ford\",\n",
    "    \"model\": \"mustang\",\n",
    "    \"year\": 1964\n",
    "}\n",
    "x = car.setdefault(\"year\")"
   ]
  },
  {
   "cell_type": "code",
   "execution_count": 11,
   "metadata": {},
   "outputs": [
    {
     "data": {
      "text/plain": [
       "1964"
      ]
     },
     "execution_count": 11,
     "metadata": {},
     "output_type": "execute_result"
    }
   ],
   "source": [
    "x"
   ]
  },
  {
   "cell_type": "code",
   "execution_count": 12,
   "metadata": {},
   "outputs": [],
   "source": [
    "car.setdefault(\"colour\")"
   ]
  },
  {
   "cell_type": "code",
   "execution_count": 13,
   "metadata": {},
   "outputs": [
    {
     "data": {
      "text/plain": [
       "{'brand': 'ford', 'model': 'mustang', 'year': 1964, 'colour': None}"
      ]
     },
     "execution_count": 13,
     "metadata": {},
     "output_type": "execute_result"
    }
   ],
   "source": [
    "car"
   ]
  },
  {
   "cell_type": "code",
   "execution_count": 22,
   "metadata": {},
   "outputs": [],
   "source": [
    "car.setdefault(\"mileage\",1234)"
   ]
  },
  {
   "cell_type": "code",
   "execution_count": 21,
   "metadata": {},
   "outputs": [
    {
     "data": {
      "text/plain": [
       "{'brand': 'ford',\n",
       " 'model': 'mustang',\n",
       " 'year': 1964,\n",
       " 'colour': None,\n",
       " 'mileage': None}"
      ]
     },
     "execution_count": 21,
     "metadata": {},
     "output_type": "execute_result"
    }
   ],
   "source": [
    "car"
   ]
  },
  {
   "cell_type": "code",
   "execution_count": 23,
   "metadata": {},
   "outputs": [],
   "source": [
    "car.pop('colour')"
   ]
  },
  {
   "cell_type": "code",
   "execution_count": 24,
   "metadata": {},
   "outputs": [
    {
     "data": {
      "text/plain": [
       "{'brand': 'ford', 'model': 'mustang', 'year': 1964, 'mileage': None}"
      ]
     },
     "execution_count": 24,
     "metadata": {},
     "output_type": "execute_result"
    }
   ],
   "source": [
    "car"
   ]
  },
  {
   "cell_type": "code",
   "execution_count": 25,
   "metadata": {},
   "outputs": [],
   "source": [
    "car.get(2)"
   ]
  },
  {
   "cell_type": "code",
   "execution_count": 46,
   "metadata": {},
   "outputs": [],
   "source": [
    "def login():\n",
    "    '''This prints the sum of two numbers a and b'''\n",
    "    firstname = input('enter your first name:')\n",
    "    lastname = input('enter your lastname')\n",
    "    password = int(input('enter your password:'))\n",
    "    savedpassword = 1234\n",
    "\n",
    "    if password == savedpassword:\n",
    "        print(f'login succesful {firstname} {lastname}') \n",
    "    else:\n",
    "        print('incorrect password, try again')   \n",
    "    return"
   ]
  },
  {
   "cell_type": "code",
   "execution_count": 44,
   "metadata": {},
   "outputs": [
    {
     "name": "stdout",
     "output_type": "stream",
     "text": [
      "login succesful muslim  sulaiman\n"
     ]
    }
   ],
   "source": [
    "login()"
   ]
  },
  {
   "cell_type": "code",
   "execution_count": 47,
   "metadata": {},
   "outputs": [
    {
     "data": {
      "text/plain": [
       "'This prints the sum of two numbers a and b'"
      ]
     },
     "execution_count": 47,
     "metadata": {},
     "output_type": "execute_result"
    }
   ],
   "source": [
    "login.__doc__"
   ]
  },
  {
   "cell_type": "code",
   "execution_count": 54,
   "metadata": {},
   "outputs": [],
   "source": [
    "def age():\n",
    "    age = int(input('enter you age'))\n",
    "    year = 2024 - age\n",
    "    print(f'you were born in {year}')\n",
    "    return"
   ]
  },
  {
   "cell_type": "code",
   "execution_count": 55,
   "metadata": {},
   "outputs": [
    {
     "name": "stdout",
     "output_type": "stream",
     "text": [
      "you were born in 2008\n"
     ]
    }
   ],
   "source": [
    "age()"
   ]
  },
  {
   "cell_type": "code",
   "execution_count": 57,
   "metadata": {},
   "outputs": [
    {
     "name": "stdout",
     "output_type": "stream",
     "text": [
      "10.714285714285714\n"
     ]
    }
   ],
   "source": [
    "def average():\n",
    "    a = 9\n",
    "    n = 12\n",
    "    e = 7\n",
    "    print(a + n / e)\n",
    "    return\n",
    "average()\n"
   ]
  },
  {
   "cell_type": "code",
   "execution_count": 60,
   "metadata": {},
   "outputs": [
    {
     "name": "stdout",
     "output_type": "stream",
     "text": [
      "10.714285714285714\n"
     ]
    }
   ],
   "source": [
    "def average(a,n,e):\n",
    "    print(a + n / e)\n",
    "    return\n",
    "average(9,12,7)"
   ]
  },
  {
   "cell_type": "code",
   "execution_count": 61,
   "metadata": {},
   "outputs": [
    {
     "name": "stdout",
     "output_type": "stream",
     "text": [
      "the passed name isjhon snow\n",
      "the new name in this function is Harry Potter\n"
     ]
    }
   ],
   "source": [
    "def change_name(name):\n",
    "    print(\"the passed name is{}\".format(name))\n",
    "    #change the name\n",
    "    name = \"Harry Potter\"\n",
    "    print(\"the new name in this function is {}\".format(name))\n",
    "    return\n",
    "\n",
    "#call the function\n",
    "name = \"jhon snow\"\n",
    "change_name(name)"
   ]
  },
  {
   "cell_type": "code",
   "execution_count": 63,
   "metadata": {},
   "outputs": [
    {
     "name": "stdout",
     "output_type": "stream",
     "text": [
      "the passed name is Harry Potter\n",
      "the new name in this function is Harry Potter\n"
     ]
    }
   ],
   "source": [
    "def change_name(name):\n",
    "    #change the name\n",
    "    name = \"Harry Potter\"\n",
    "    print(\"the passed name is {}\".format(name))\n",
    "    print(\"the new name in this function is {}\".format(name))\n",
    "    return\n",
    "\n",
    "#call the function\n",
    "name = \"jhon snow\"\n",
    "change_name(name)"
   ]
  },
  {
   "cell_type": "code",
   "execution_count": 69,
   "metadata": {},
   "outputs": [
    {
     "name": "stdout",
     "output_type": "stream",
     "text": [
      "2012\n"
     ]
    }
   ],
   "source": [
    "def changenames(age=12,year=2024):\n",
    "    print(year - age)\n",
    "    return\n",
    "changenames()"
   ]
  }
 ],
 "metadata": {
  "kernelspec": {
   "display_name": "Python 3",
   "language": "python",
   "name": "python3"
  },
  "language_info": {
   "codemirror_mode": {
    "name": "ipython",
    "version": 3
   },
   "file_extension": ".py",
   "mimetype": "text/x-python",
   "name": "python",
   "nbconvert_exporter": "python",
   "pygments_lexer": "ipython3",
   "version": "3.12.4"
  }
 },
 "nbformat": 4,
 "nbformat_minor": 2
}
